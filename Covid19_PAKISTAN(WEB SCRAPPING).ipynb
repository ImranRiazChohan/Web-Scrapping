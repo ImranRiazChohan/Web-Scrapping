{
 "cells": [
  {
   "cell_type": "code",
   "execution_count": 2,
   "metadata": {},
   "outputs": [],
   "source": [
    "from bs4 import BeautifulSoup\n",
    "from requests import get\n",
    "import pandas as pd"
   ]
  },
  {
   "cell_type": "code",
   "execution_count": 3,
   "metadata": {},
   "outputs": [
    {
     "data": {
      "text/plain": [
       "<Response [200]>"
      ]
     },
     "execution_count": 3,
     "metadata": {},
     "output_type": "execute_result"
    }
   ],
   "source": [
    "url=\"https://www.covid-19.pk/\"\n",
    "response=get(url)\n",
    "response"
   ]
  },
  {
   "cell_type": "code",
   "execution_count": 4,
   "metadata": {},
   "outputs": [],
   "source": [
    "html_soup=BeautifulSoup(response.text,\"html.parser\")"
   ]
  },
  {
   "cell_type": "code",
   "execution_count": 5,
   "metadata": {},
   "outputs": [
    {
     "data": {
      "text/plain": [
       "'4,971'"
      ]
     },
     "execution_count": 5,
     "metadata": {},
     "output_type": "execute_result"
    }
   ],
   "source": [
    "covid_pk=html_soup.find_all('div',class_='maincounter-number')\n",
    "Total_case=covid_pk[0].span.text\n",
    "Total_case=Total_case.strip()\n",
    "Total_case"
   ]
  },
  {
   "cell_type": "code",
   "execution_count": 6,
   "metadata": {},
   "outputs": [
    {
     "data": {
      "text/plain": [
       "'763'"
      ]
     },
     "execution_count": 6,
     "metadata": {},
     "output_type": "execute_result"
    }
   ],
   "source": [
    "Recovered_case=covid_pk[1].span.text\n",
    "Recovered_case=Recovered_case.strip()\n",
    "Recovered_case"
   ]
  },
  {
   "cell_type": "code",
   "execution_count": 7,
   "metadata": {},
   "outputs": [
    {
     "data": {
      "text/plain": [
       "'80'"
      ]
     },
     "execution_count": 7,
     "metadata": {},
     "output_type": "execute_result"
    }
   ],
   "source": [
    "Death_case=covid_pk[2].span.text\n",
    "Death_case=Death_case.strip()\n",
    "Death_case"
   ]
  },
  {
   "cell_type": "code",
   "execution_count": 8,
   "metadata": {},
   "outputs": [
    {
     "data": {
      "text/plain": [
       "'191 today'"
      ]
     },
     "execution_count": 8,
     "metadata": {},
     "output_type": "execute_result"
    }
   ],
   "source": [
    "Today_covid_Pk=html_soup.find_all(\"div\",id=\"maincounter-wrap\")\n",
    "Today_total_case=Today_covid_Pk[0].span.text\n",
    "Today_total_case"
   ]
  },
  {
   "cell_type": "code",
   "execution_count": 9,
   "metadata": {},
   "outputs": [
    {
     "data": {
      "text/plain": [
       "'23 today'"
      ]
     },
     "execution_count": 9,
     "metadata": {},
     "output_type": "execute_result"
    }
   ],
   "source": [
    "Today_Recovered_case=Today_covid_Pk[1].span.text\n",
    "Today_Recovered_case"
   ]
  },
  {
   "cell_type": "code",
   "execution_count": 10,
   "metadata": {},
   "outputs": [
    {
     "data": {
      "text/plain": [
       "'8 today'"
      ]
     },
     "execution_count": 10,
     "metadata": {},
     "output_type": "execute_result"
    }
   ],
   "source": [
    "Today_Death_case=Today_covid_Pk[2].span.text\n",
    "Today_Death_case"
   ]
  },
  {
   "cell_type": "code",
   "execution_count": 11,
   "metadata": {},
   "outputs": [],
   "source": [
    "Total=[]\n",
    "for i in covid_pk:\n",
    "    total=i.span.text\n",
    "    total=total.strip()\n",
    "    Total.append(total)"
   ]
  },
  {
   "cell_type": "code",
   "execution_count": 12,
   "metadata": {},
   "outputs": [
    {
     "data": {
      "text/plain": [
       "['4,971', '763', '80']"
      ]
     },
     "execution_count": 12,
     "metadata": {},
     "output_type": "execute_result"
    }
   ],
   "source": [
    "Total"
   ]
  },
  {
   "cell_type": "code",
   "execution_count": 13,
   "metadata": {},
   "outputs": [],
   "source": [
    "Today=[]\n",
    "for i in Today_covid_Pk:\n",
    "    today=i.span.text\n",
    "    today=today.strip()\n",
    "    Today.append(today)"
   ]
  },
  {
   "cell_type": "code",
   "execution_count": 14,
   "metadata": {},
   "outputs": [
    {
     "data": {
      "text/plain": [
       "['191 today', '23 today', '8 today']"
      ]
     },
     "execution_count": 14,
     "metadata": {},
     "output_type": "execute_result"
    }
   ],
   "source": [
    "Today"
   ]
  },
  {
   "cell_type": "code",
   "execution_count": 15,
   "metadata": {},
   "outputs": [],
   "source": [
    "first=html_soup.find_all(\"div\",class_='col-md-12')"
   ]
  },
  {
   "cell_type": "code",
   "execution_count": 16,
   "metadata": {},
   "outputs": [
    {
     "data": {
      "text/plain": [
       "'Punjab'"
      ]
     },
     "execution_count": 16,
     "metadata": {},
     "output_type": "execute_result"
    }
   ],
   "source": [
    "First_Name=first[0].td.text\n",
    "First_Name"
   ]
  },
  {
   "cell_type": "code",
   "execution_count": 17,
   "metadata": {},
   "outputs": [],
   "source": [
    "First_Total=first[0].find_all('a',class_='btn btn-app p-2')"
   ]
  },
  {
   "cell_type": "code",
   "execution_count": 18,
   "metadata": {},
   "outputs": [
    {
     "name": "stdout",
     "output_type": "stream",
     "text": [
      "Corona_Case:2414 Today_Case:78today\n"
     ]
    }
   ],
   "source": [
    "First_Total_Cases=First_Total[0].text.split()\n",
    "First_Total_Case=First_Total_Cases[2]\n",
    "First_Today_Case=First_Total_Cases[0]+First_Total_Cases[1]\n",
    "print(\"Corona_Case:{} Today_Case:{}\".format(First_Total_Case,First_Today_Case))"
   ]
  },
  {
   "cell_type": "code",
   "execution_count": 19,
   "metadata": {},
   "outputs": [
    {
     "name": "stdout",
     "output_type": "stream",
     "text": [
      "Recovered:39 Today_Caes:nochange\n"
     ]
    }
   ],
   "source": [
    "First_Total_Recovereds=First_Total[1].text\n",
    "First_Total_Recovereds=First_Total_Recovereds.split()\n",
    "First_Total_Recovered=First_Total_Recovereds[2]\n",
    "First_Today_Recovered=First_Total_Recovereds[0]+First_Total_Recovereds[1]\n",
    "print(\"Recovered:{} Today_Caes:{}\".format(First_Total_Recovered,First_Today_Recovered))"
   ]
  },
  {
   "cell_type": "code",
   "execution_count": 20,
   "metadata": {},
   "outputs": [
    {
     "name": "stdout",
     "output_type": "stream",
     "text": [
      "Death:21 Today_Death:2today\n"
     ]
    }
   ],
   "source": [
    "First_Total_Death=First_Total[2].text\n",
    "First_Total_Death=First_Total_Death.split()\n",
    "First_Total_Deaths=First_Total_Death[2]\n",
    "First_Today_Deaths=First_Total_Death[0]+First_Total_Death[1]\n",
    "print(\"Death:{} Today_Death:{}\".format(First_Total_Deaths,First_Today_Deaths))"
   ]
  },
  {
   "cell_type": "code",
   "execution_count": null,
   "metadata": {},
   "outputs": [],
   "source": []
  },
  {
   "cell_type": "code",
   "execution_count": 21,
   "metadata": {},
   "outputs": [],
   "source": [
    "Name=[]\n",
    "Today=[]\n",
    "Total=[]\n",
    "\n",
    "container=html_soup.find_all(\"tr\")\n",
    "container1=html_soup.find_all(\"td\")\n",
    "for containers in range(1,8):\n",
    "    name=container[containers].td.text\n",
    "    Name.append(name)\n",
    "    \n",
    "    total=container[containers].a.text\n",
    "    total=total.split()\n",
    "    today=total[0]+total[1]\n",
    "    totals=total[2]\n",
    "    Today.append(today)\n",
    "    Total.append(totals)\n"
   ]
  },
  {
   "cell_type": "code",
   "execution_count": 22,
   "metadata": {},
   "outputs": [
    {
     "data": {
      "text/plain": [
       "['Punjab',\n",
       " 'Sindh',\n",
       " 'Khyber Pakhtunkhwa',\n",
       " 'Balochistan',\n",
       " 'Gilgit Baltistan',\n",
       " 'Federal Capital',\n",
       " 'Azad Kashmir']"
      ]
     },
     "execution_count": 22,
     "metadata": {},
     "output_type": "execute_result"
    }
   ],
   "source": [
    "Names=[]\n",
    "for i in range(1,8):\n",
    "    name=container[i].td.text\n",
    "    Names.append(name)\n",
    "Names"
   ]
  },
  {
   "cell_type": "code",
   "execution_count": null,
   "metadata": {},
   "outputs": [],
   "source": []
  },
  {
   "cell_type": "code",
   "execution_count": 23,
   "metadata": {},
   "outputs": [
    {
     "data": {
      "text/html": [
       "<div>\n",
       "<style scoped>\n",
       "    .dataframe tbody tr th:only-of-type {\n",
       "        vertical-align: middle;\n",
       "    }\n",
       "\n",
       "    .dataframe tbody tr th {\n",
       "        vertical-align: top;\n",
       "    }\n",
       "\n",
       "    .dataframe thead th {\n",
       "        text-align: right;\n",
       "    }\n",
       "</style>\n",
       "<table border=\"1\" class=\"dataframe\">\n",
       "  <thead>\n",
       "    <tr style=\"text-align: right;\">\n",
       "      <th></th>\n",
       "      <th>Name</th>\n",
       "      <th>Total</th>\n",
       "      <th>Recovered</th>\n",
       "      <th>Recovered%</th>\n",
       "      <th>Death</th>\n",
       "      <th>Death%</th>\n",
       "    </tr>\n",
       "  </thead>\n",
       "  <tbody>\n",
       "    <tr>\n",
       "      <td>0</td>\n",
       "      <td>None</td>\n",
       "      <td>None</td>\n",
       "      <td>None</td>\n",
       "      <td>None</td>\n",
       "      <td>None</td>\n",
       "      <td>None</td>\n",
       "    </tr>\n",
       "    <tr>\n",
       "      <td>1</td>\n",
       "      <td>Punjab</td>\n",
       "      <td>78 today                                      ...</td>\n",
       "      <td>no change                                     ...</td>\n",
       "      <td>\\t\\t\\t\\t2%\\t\\t\\t</td>\n",
       "      <td>2 today                                       ...</td>\n",
       "      <td>\\t\\t\\t\\t                               \\t\\t 1%...</td>\n",
       "    </tr>\n",
       "    <tr>\n",
       "      <td>2</td>\n",
       "      <td>Sindh</td>\n",
       "      <td>104 today                                     ...</td>\n",
       "      <td>no change                                     ...</td>\n",
       "      <td>\\t\\t\\t\\t27%\\t\\t\\t</td>\n",
       "      <td>6 today                                       ...</td>\n",
       "      <td>\\t\\t\\t\\t                               \\t\\t 2%...</td>\n",
       "    </tr>\n",
       "    <tr>\n",
       "      <td>3</td>\n",
       "      <td>Khyber Pakhtunkhwa</td>\n",
       "      <td>no change                                     ...</td>\n",
       "      <td>no change                                     ...</td>\n",
       "      <td>\\t\\t\\t\\t20%\\t\\t\\t</td>\n",
       "      <td>no change                                     ...</td>\n",
       "      <td>\\t\\t\\t\\t                               \\t\\t 4%...</td>\n",
       "    </tr>\n",
       "    <tr>\n",
       "      <td>4</td>\n",
       "      <td>Balochistan</td>\n",
       "      <td>1 today                                       ...</td>\n",
       "      <td>6 today                                       ...</td>\n",
       "      <td>\\t\\t\\t\\t43%\\t\\t\\t</td>\n",
       "      <td>no change                                     ...</td>\n",
       "      <td>\\t\\t\\t\\t                               \\t\\t 1%...</td>\n",
       "    </tr>\n",
       "    <tr>\n",
       "      <td>5</td>\n",
       "      <td>Gilgit Baltistan</td>\n",
       "      <td>no change                                     ...</td>\n",
       "      <td>14 today                                      ...</td>\n",
       "      <td>\\t\\t\\t\\t58%\\t\\t\\t</td>\n",
       "      <td>no change                                     ...</td>\n",
       "      <td>\\t\\t\\t\\t                               \\t\\t 1%...</td>\n",
       "    </tr>\n",
       "    <tr>\n",
       "      <td>6</td>\n",
       "      <td>Federal Capital</td>\n",
       "      <td>7 today                                       ...</td>\n",
       "      <td>3 today                                       ...</td>\n",
       "      <td>\\t\\t\\t\\t11%\\t\\t\\t</td>\n",
       "      <td>no change                                     ...</td>\n",
       "      <td>\\t\\t\\t\\t                               \\t\\t 1%...</td>\n",
       "    </tr>\n",
       "    <tr>\n",
       "      <td>7</td>\n",
       "      <td>Azad Kashmir</td>\n",
       "      <td>1 today                                       ...</td>\n",
       "      <td>no change                                     ...</td>\n",
       "      <td>\\t\\t\\t\\t3%\\t\\t\\t</td>\n",
       "      <td>-</td>\n",
       "      <td>\\t\\t\\t\\t\\t\\t\\t\\t\\t-\\t\\t\\t\\t                   ...</td>\n",
       "    </tr>\n",
       "  </tbody>\n",
       "</table>\n",
       "</div>"
      ],
      "text/plain": [
       "                 Name                                              Total  \\\n",
       "0                None                                               None   \n",
       "1              Punjab  78 today                                      ...   \n",
       "2               Sindh  104 today                                     ...   \n",
       "3  Khyber Pakhtunkhwa  no change                                     ...   \n",
       "4         Balochistan  1 today                                       ...   \n",
       "5    Gilgit Baltistan  no change                                     ...   \n",
       "6     Federal Capital  7 today                                       ...   \n",
       "7        Azad Kashmir  1 today                                       ...   \n",
       "\n",
       "                                           Recovered             Recovered%  \\\n",
       "0                                               None                   None   \n",
       "1  no change                                     ...   \\t\\t\\t\\t2%\\t\\t\\t       \n",
       "2  no change                                     ...  \\t\\t\\t\\t27%\\t\\t\\t       \n",
       "3  no change                                     ...  \\t\\t\\t\\t20%\\t\\t\\t       \n",
       "4  6 today                                       ...  \\t\\t\\t\\t43%\\t\\t\\t       \n",
       "5  14 today                                      ...  \\t\\t\\t\\t58%\\t\\t\\t       \n",
       "6  3 today                                       ...  \\t\\t\\t\\t11%\\t\\t\\t       \n",
       "7  no change                                     ...   \\t\\t\\t\\t3%\\t\\t\\t       \n",
       "\n",
       "                                               Death  \\\n",
       "0                                               None   \n",
       "1  2 today                                       ...   \n",
       "2  6 today                                       ...   \n",
       "3  no change                                     ...   \n",
       "4  no change                                     ...   \n",
       "5  no change                                     ...   \n",
       "6  no change                                     ...   \n",
       "7                                                 -    \n",
       "\n",
       "                                              Death%  \n",
       "0                                               None  \n",
       "1  \\t\\t\\t\\t                               \\t\\t 1%...  \n",
       "2  \\t\\t\\t\\t                               \\t\\t 2%...  \n",
       "3  \\t\\t\\t\\t                               \\t\\t 4%...  \n",
       "4  \\t\\t\\t\\t                               \\t\\t 1%...  \n",
       "5  \\t\\t\\t\\t                               \\t\\t 1%...  \n",
       "6  \\t\\t\\t\\t                               \\t\\t 1%...  \n",
       "7  \\t\\t\\t\\t\\t\\t\\t\\t\\t-\\t\\t\\t\\t                   ...  "
      ]
     },
     "execution_count": 23,
     "metadata": {},
     "output_type": "execute_result"
    }
   ],
   "source": [
    "extract_contents = lambda row: [x.text.replace('\\n', '') for x in row]\n",
    "# find all table rows and data cells within\n",
    "stats = [] \n",
    "all_rows = html_soup.find_all('tr')\n",
    "for row in all_rows:\n",
    "    stat = extract_contents(row.find_all('td')) \n",
    "    # notice that the data that we require is now a list of length 5\n",
    "    stats.append(stat)\n",
    "new_cols = [ \"Name\",\"Total\",\"Recovered\",\"Recovered%\",\"Death\",\"Death%\"]\n",
    "dat=pd.DataFrame(data=stats,columns=new_cols)\n",
    "dat"
   ]
  },
  {
   "cell_type": "code",
   "execution_count": 24,
   "metadata": {},
   "outputs": [],
   "source": [
    "data=pd.DataFrame({\"NAME\":Name,\"TODAY\":Today,\"TOTAL\":Total})"
   ]
  },
  {
   "cell_type": "code",
   "execution_count": 25,
   "metadata": {},
   "outputs": [
    {
     "data": {
      "text/html": [
       "<div>\n",
       "<style scoped>\n",
       "    .dataframe tbody tr th:only-of-type {\n",
       "        vertical-align: middle;\n",
       "    }\n",
       "\n",
       "    .dataframe tbody tr th {\n",
       "        vertical-align: top;\n",
       "    }\n",
       "\n",
       "    .dataframe thead th {\n",
       "        text-align: right;\n",
       "    }\n",
       "</style>\n",
       "<table border=\"1\" class=\"dataframe\">\n",
       "  <thead>\n",
       "    <tr style=\"text-align: right;\">\n",
       "      <th></th>\n",
       "      <th>NAME</th>\n",
       "      <th>TODAY</th>\n",
       "      <th>TOTAL</th>\n",
       "    </tr>\n",
       "  </thead>\n",
       "  <tbody>\n",
       "    <tr>\n",
       "      <td>0</td>\n",
       "      <td>Punjab</td>\n",
       "      <td>78today</td>\n",
       "      <td>2414</td>\n",
       "    </tr>\n",
       "    <tr>\n",
       "      <td>1</td>\n",
       "      <td>Sindh</td>\n",
       "      <td>104today</td>\n",
       "      <td>1318</td>\n",
       "    </tr>\n",
       "    <tr>\n",
       "      <td>2</td>\n",
       "      <td>Khyber Pakhtunkhwa</td>\n",
       "      <td>nochange</td>\n",
       "      <td>656</td>\n",
       "    </tr>\n",
       "    <tr>\n",
       "      <td>3</td>\n",
       "      <td>Balochistan</td>\n",
       "      <td>1today</td>\n",
       "      <td>220</td>\n",
       "    </tr>\n",
       "    <tr>\n",
       "      <td>4</td>\n",
       "      <td>Gilgit Baltistan</td>\n",
       "      <td>nochange</td>\n",
       "      <td>215</td>\n",
       "    </tr>\n",
       "    <tr>\n",
       "      <td>5</td>\n",
       "      <td>Federal Capital</td>\n",
       "      <td>7today</td>\n",
       "      <td>114</td>\n",
       "    </tr>\n",
       "    <tr>\n",
       "      <td>6</td>\n",
       "      <td>Azad Kashmir</td>\n",
       "      <td>1today</td>\n",
       "      <td>34</td>\n",
       "    </tr>\n",
       "  </tbody>\n",
       "</table>\n",
       "</div>"
      ],
      "text/plain": [
       "                 NAME     TODAY TOTAL\n",
       "0              Punjab   78today  2414\n",
       "1               Sindh  104today  1318\n",
       "2  Khyber Pakhtunkhwa  nochange   656\n",
       "3         Balochistan    1today   220\n",
       "4    Gilgit Baltistan  nochange   215\n",
       "5     Federal Capital    7today   114\n",
       "6        Azad Kashmir    1today    34"
      ]
     },
     "execution_count": 25,
     "metadata": {},
     "output_type": "execute_result"
    }
   ],
   "source": [
    "data"
   ]
  },
  {
   "cell_type": "code",
   "execution_count": null,
   "metadata": {},
   "outputs": [],
   "source": []
  }
 ],
 "metadata": {
  "kernelspec": {
   "display_name": "Python 3",
   "language": "python",
   "name": "python3"
  },
  "language_info": {
   "codemirror_mode": {
    "name": "ipython",
    "version": 3
   },
   "file_extension": ".py",
   "mimetype": "text/x-python",
   "name": "python",
   "nbconvert_exporter": "python",
   "pygments_lexer": "ipython3",
   "version": "3.7.4"
  }
 },
 "nbformat": 4,
 "nbformat_minor": 2
}
