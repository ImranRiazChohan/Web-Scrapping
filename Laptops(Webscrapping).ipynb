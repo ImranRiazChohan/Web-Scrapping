{
 "cells": [
  {
   "cell_type": "code",
   "execution_count": 1,
   "metadata": {},
   "outputs": [],
   "source": [
    "from bs4 import BeautifulSoup\n",
    "from requests import get\n",
    "import pandas as pd"
   ]
  },
  {
   "cell_type": "code",
   "execution_count": 2,
   "metadata": {},
   "outputs": [
    {
     "data": {
      "text/plain": [
       "<Response [200]>"
      ]
     },
     "execution_count": 2,
     "metadata": {},
     "output_type": "execute_result"
    }
   ],
   "source": [
    "url=\"https://www.czone.com.pk/laptops-pakistan-ppt.74.aspx\"\n",
    "response=get(url)\n",
    "response"
   ]
  },
  {
   "cell_type": "code",
   "execution_count": 4,
   "metadata": {},
   "outputs": [
    {
     "name": "stdout",
     "output_type": "stream",
     "text": [
      "<class 'bs4.BeautifulSoup'>\n",
      "5\n"
     ]
    }
   ],
   "source": [
    "html_soup=BeautifulSoup(response.text,'html.parser')\n",
    "print(type(html_soup))\n",
    "print(len(html_soup))"
   ]
  },
  {
   "cell_type": "code",
   "execution_count": 9,
   "metadata": {},
   "outputs": [],
   "source": [
    "laptop_container=html_soup.find_all('div',class_=\"col-lg-12 col-md-12 col-sm-12 col-xs-12\")\n",
    "First_laptop=laptop_container[0]"
   ]
  },
  {
   "cell_type": "code",
   "execution_count": 10,
   "metadata": {},
   "outputs": [
    {
     "data": {
      "text/plain": [
       "<div class=\"col-lg-12 col-md-12 col-sm-12 col-xs-12\">\n",
       "<div class=\"col-lg-3 col-md-3 col-sm-3 col-xs-12 no-padding\">\n",
       "<div class=\"image\">\n",
       "<a href=\"/laptops-lenovo-laptops-lenovo-v130-15-laptop-intel-celeron-n4000-4gb-1tb-15-6-hd-iron-grey-pakistan-p.9162.aspx\" id=\"rptListView_ctl00_anProductImage\">\n",
       "<img alt='Lenovo V130 15\" Laptop - Intel Celeron N4000, 4GB, 1TB, 15.6\" HD, Iron Grey' class=\"img-responsive\" id=\"rptListView_ctl00_imgProduct\" src=\"/Images/Thumbnails/copy-czonev130.jpg-1540-7747-150319030355.jpg\"/>\n",
       "</a>\n",
       "<div class=\"promotion\" id=\"rptListView_ctl00_divPromotion\">\n",
       "</div>\n",
       "<div class=\"text-center margin-top-10\" id=\"rptListView_ctl00_divCompare\">\n",
       "<input data-productid=\"9162\" id=\"rptListView_ctl00_chbCompare\" name=\"rptListView$ctl00$chbCompare\" onclick=\"javascript:CompareCheck(this,'/Images/Thumbnails/copy-czonev130.jpg-1540-7747-150319030355.jpg','9162');\" type=\"checkbox\"/><span>Compare</span>\n",
       "</div>\n",
       "</div>\n",
       "</div>\n",
       "<div class=\"col-lg-9 col-md-9 col-sm-9 col-xs-12\">\n",
       "<div class=\"col-lg-12 col-md-12 col-sm-12 col-xs-12 no-padding\" style=\"display: table-cell; text-align: left\">\n",
       "<div class=\"col-lg-8 col-md-8 col-sm-8 col-xs-12 no-padding\">\n",
       "<h4><a href=\"/laptops-lenovo-laptops-lenovo-v130-15-laptop-intel-celeron-n4000-4gb-1tb-15-6-hd-iron-grey-pakistan-p.9162.aspx\" id=\"rptListView_ctl00_anProductName\">Lenovo V130 15\" Laptop - Intel Celeron N4000, 4GB, 1TB, 15.6\" HD, Iron Grey</a></h4>\n",
       "<div class=\"rating\" id=\"rptListView_ctl00_divRating\">\n",
       "<div class=\"star_rating\" id=\"rptListView_ctl00_divProductRating\" style=\"display: none\">4.0</div>\n",
       "<span class=\"product-rating\" id=\"rptListView_ctl00_spnProductRating\">4.0</span>\n",
       "<span class=\"ratingInfo\" id=\"rptListView_ctl00_spnMainRatingDetail\">\n",
       "<span class=\"first\" id=\"rptListView_ctl00_spnRatingCount\">1 Rating</span>\n",
       "<a data-src=\"/productreview.aspx?p=9162\" data-target=\"#divReviewModal\" data-toggle=\"modal\" id=\"rptListView_ctl00_anWrite\" name=\"review-modal\">Rate this product</a>\n",
       "</span>\n",
       "</div>\n",
       "<div class=\"product-category\" id=\"rptListView_ctl00_divCategory\">\n",
       "<span class=\"product-data-title\">Category: </span>\n",
       "<span class=\"product-data\" id=\"rptListView_ctl00_spnCategory\">Laptops &gt; Lenovo Laptops</span>\n",
       "</div>\n",
       "<div class=\"product-code no-padding\" id=\"rptListView_ctl00_divProductCode\">\n",
       "<span class=\"product-data-title\">Product Code: </span>\n",
       "<span class=\"product-data\" id=\"rptListView_ctl00_spnProductCode\">V130 N4000-4-1-Grey</span>\n",
       "</div>\n",
       "<div class=\"description\" id=\"rptListView_ctl00_divProductDesc\">\n",
       "<p id=\"rptListView_ctl00_spnProductShortDesc\" style=\"display: none\"></p>\n",
       "<p id=\"rptListView_ctl00_spnProductDesc\">The Lenovo V130 15.6-inch laptop delivers great performance in a patterned, textured cover that bespeaks modern style.</p>\n",
       "<span class=\"view-more\" id=\"rptListView_ctl00_spnViewMore\" style=\"display: none\">View More</span>\n",
       "</div>\n",
       "<ul class=\"description highlights text-left\" id=\"rptListView_ctl00_ulHighlights\"><li>Intel® Celeron® Processor N4000</li><li>4GB DDR4 | 1TB HDD</li><li>Intel® UHD Graphics 600</li><li>15.6\" HD Display 180°</li></ul>\n",
       "</div>\n",
       "<div class=\"col-lg-4 col-md-4 col-sm-4 col-xs-12 no-padding\">\n",
       "<div class=\"product-stock\" id=\"rptListView_ctl00_divStockStatus\">\n",
       "<span class=\"product-data-title\">Availability: </span>\n",
       "<span class=\"product-data out-of-stock\" id=\"rptListView_ctl00_spnStockStatus\">Out of Stock</span>\n",
       "</div>\n",
       "<div style=\"clear: both;\"></div>\n",
       "<div class=\"price\" id=\"rptListView_ctl00_divPrice\" name=\"list-price\">\n",
       "<span id=\"rptListView_ctl00_spnPrice\">Rs.35,900</span>\n",
       "</div>\n",
       "<div class=\"action-control\" id=\"rptListView_ctl00_divWishlist\">\n",
       "<a class=\"btn btn-wishlist\" id=\"rptListView_ctl00_anWishlist\" title=\"Add to Wishlist\">Add to Wishlist</a>\n",
       "</div>\n",
       "</div>\n",
       "</div>\n",
       "</div>\n",
       "</div>"
      ]
     },
     "execution_count": 10,
     "metadata": {},
     "output_type": "execute_result"
    }
   ],
   "source": [
    "First_laptop"
   ]
  },
  {
   "cell_type": "code",
   "execution_count": 13,
   "metadata": {},
   "outputs": [
    {
     "data": {
      "text/plain": [
       "'Lenovo V130 15\" Laptop - Intel Celeron N4000, 4GB, 1TB, 15.6\" HD, Iron Grey'"
      ]
     },
     "execution_count": 13,
     "metadata": {},
     "output_type": "execute_result"
    }
   ],
   "source": [
    "First_detail=First_laptop.find('div',class_='col-lg-8 col-md-8 col-sm-8 col-xs-12 no-padding')\n",
    "First_detail=First_detail.h4.text\n",
    "First_detail"
   ]
  },
  {
   "cell_type": "code",
   "execution_count": 33,
   "metadata": {},
   "outputs": [
    {
     "data": {
      "text/plain": [
       "4.0"
      ]
     },
     "execution_count": 33,
     "metadata": {},
     "output_type": "execute_result"
    }
   ],
   "source": [
    "First_rating=First_laptop.find(\"span\",class_='product-rating')\n",
    "First_rating=float(First_rating.text)\n",
    "First_rating"
   ]
  },
  {
   "cell_type": "code",
   "execution_count": 19,
   "metadata": {},
   "outputs": [
    {
     "data": {
      "text/plain": [
       "'Out of Stock'"
      ]
     },
     "execution_count": 19,
     "metadata": {},
     "output_type": "execute_result"
    }
   ],
   "source": [
    "First_Availibility=First_laptop.find(\"span\",class_=\"product-data out-of-stock\").text\n",
    "First_Availibility"
   ]
  },
  {
   "cell_type": "code",
   "execution_count": 36,
   "metadata": {},
   "outputs": [
    {
     "data": {
      "text/plain": [
       "'Rs.35,900'"
      ]
     },
     "execution_count": 36,
     "metadata": {},
     "output_type": "execute_result"
    }
   ],
   "source": [
    "First_price=First_laptop.find(\"div\",class_=\"price\")\n",
    "First_price=First_price.span.text\n",
    "First_price"
   ]
  },
  {
   "cell_type": "code",
   "execution_count": 95,
   "metadata": {},
   "outputs": [],
   "source": [
    "Price=[]\n",
    "Rating=[]\n",
    "Detail=[]\n",
    "Processor=[]\n",
    "\n",
    "for container in laptop_container:\n",
    "        price=container.find(\"div\",class_=\"price\")\n",
    "        price=price.span.text\n",
    "        Price.append(price)\n",
    "        \n",
    "        rating=container.find(\"span\",class_=\"product-rating\")\n",
    "        Rating.append(rating)\n",
    "        \n",
    "        detail=container.find('div',class_=\"col-lg-8 col-md-8 col-sm-8 col-xs-12 no-padding\")\n",
    "        detail=detail.h4.text\n",
    "        Detail.append(detail)\n",
    "        \n",
    "        processor=container.find(\"ul\",class_=\"description highlights text-left\")\n",
    "        processor=container.li.text\n",
    "        Processor.append(processor)"
   ]
  },
  {
   "cell_type": "code",
   "execution_count": 98,
   "metadata": {},
   "outputs": [
    {
     "data": {
      "text/html": [
       "<div>\n",
       "<style scoped>\n",
       "    .dataframe tbody tr th:only-of-type {\n",
       "        vertical-align: middle;\n",
       "    }\n",
       "\n",
       "    .dataframe tbody tr th {\n",
       "        vertical-align: top;\n",
       "    }\n",
       "\n",
       "    .dataframe thead th {\n",
       "        text-align: right;\n",
       "    }\n",
       "</style>\n",
       "<table border=\"1\" class=\"dataframe\">\n",
       "  <thead>\n",
       "    <tr style=\"text-align: right;\">\n",
       "      <th></th>\n",
       "      <th>Detail</th>\n",
       "      <th>Price</th>\n",
       "      <th>Processor</th>\n",
       "      <th>Rating</th>\n",
       "    </tr>\n",
       "  </thead>\n",
       "  <tbody>\n",
       "    <tr>\n",
       "      <td>0</td>\n",
       "      <td>Lenovo V130 15\" Laptop - Intel Celeron N4000, ...</td>\n",
       "      <td>Rs.35,900</td>\n",
       "      <td>Intel® Celeron® Processor N4000</td>\n",
       "      <td>[4.0]</td>\n",
       "    </tr>\n",
       "    <tr>\n",
       "      <td>1</td>\n",
       "      <td>Lenovo V130 15\" Laptop - 7th Gen Ci3 7020U, 4G...</td>\n",
       "      <td>Rs.47,500</td>\n",
       "      <td>Intel® Core™ i3-7020U Processor</td>\n",
       "      <td>None</td>\n",
       "    </tr>\n",
       "    <tr>\n",
       "      <td>2</td>\n",
       "      <td>Lenovo V130 Laptop - 8th Gen Ci3 8130u, 4GB, 1...</td>\n",
       "      <td>Rs.50,800</td>\n",
       "      <td>Intel® Core™ i3-8130U Processor</td>\n",
       "      <td>None</td>\n",
       "    </tr>\n",
       "    <tr>\n",
       "      <td>3</td>\n",
       "      <td>HP 250 G7 Notebook PC - 7th Gen Ci3 7020U, 4GB...</td>\n",
       "      <td>Rs.50,900</td>\n",
       "      <td>7th Generation Intel® Core™ i3 processor (i3-7...</td>\n",
       "      <td>None</td>\n",
       "    </tr>\n",
       "    <tr>\n",
       "      <td>4</td>\n",
       "      <td>HP 15-DA0748NIA Notebook - 7th Gen Ci3, 4GB, 1...</td>\n",
       "      <td>Rs.51,500</td>\n",
       "      <td>Intel® Core™ i3-7020U (2.3 GHz base frequency,...</td>\n",
       "      <td>[5.0]</td>\n",
       "    </tr>\n",
       "    <tr>\n",
       "      <td>5</td>\n",
       "      <td>HP 15-DA1051NX Laptop - 8th Gen Ci3, 4GB, 1TB ...</td>\n",
       "      <td>Rs.54,500</td>\n",
       "      <td>Intel® Core™ i3-8145U</td>\n",
       "      <td>None</td>\n",
       "    </tr>\n",
       "    <tr>\n",
       "      <td>6</td>\n",
       "      <td>HP 14-DQ1037WM Notebook - 10th Gen Ci3, 4GB, 1...</td>\n",
       "      <td>Rs.55,900</td>\n",
       "      <td>Intel Core i3-1005G1</td>\n",
       "      <td>None</td>\n",
       "    </tr>\n",
       "    <tr>\n",
       "      <td>7</td>\n",
       "      <td>Dell Inspiron 14 3493 Laptop - 10th Gen Ci5 - ...</td>\n",
       "      <td>Rs.59,900</td>\n",
       "      <td>10th Generation Intel® Core™ i5-1035G1 Process...</td>\n",
       "      <td>None</td>\n",
       "    </tr>\n",
       "    <tr>\n",
       "      <td>8</td>\n",
       "      <td>HP 15-DY1731MS Laptop - 10th Gen Ci3, 8GB, 128...</td>\n",
       "      <td>Rs.59,900</td>\n",
       "      <td>Intel® Core™ i3-1005G1</td>\n",
       "      <td>[5.0]</td>\n",
       "    </tr>\n",
       "    <tr>\n",
       "      <td>9</td>\n",
       "      <td>HP 14-DQ1037WM Notebook - 10th Gen Ci5 1035G4 ...</td>\n",
       "      <td>Rs.60,800</td>\n",
       "      <td>Intel® Core™ i5-1035G4 Processor</td>\n",
       "      <td>None</td>\n",
       "    </tr>\n",
       "  </tbody>\n",
       "</table>\n",
       "</div>"
      ],
      "text/plain": [
       "                                              Detail      Price  \\\n",
       "0  Lenovo V130 15\" Laptop - Intel Celeron N4000, ...  Rs.35,900   \n",
       "1  Lenovo V130 15\" Laptop - 7th Gen Ci3 7020U, 4G...  Rs.47,500   \n",
       "2  Lenovo V130 Laptop - 8th Gen Ci3 8130u, 4GB, 1...  Rs.50,800   \n",
       "3  HP 250 G7 Notebook PC - 7th Gen Ci3 7020U, 4GB...  Rs.50,900   \n",
       "4  HP 15-DA0748NIA Notebook - 7th Gen Ci3, 4GB, 1...  Rs.51,500   \n",
       "5  HP 15-DA1051NX Laptop - 8th Gen Ci3, 4GB, 1TB ...  Rs.54,500   \n",
       "6  HP 14-DQ1037WM Notebook - 10th Gen Ci3, 4GB, 1...  Rs.55,900   \n",
       "7  Dell Inspiron 14 3493 Laptop - 10th Gen Ci5 - ...  Rs.59,900   \n",
       "8  HP 15-DY1731MS Laptop - 10th Gen Ci3, 8GB, 128...  Rs.59,900   \n",
       "9  HP 14-DQ1037WM Notebook - 10th Gen Ci5 1035G4 ...  Rs.60,800   \n",
       "\n",
       "                                           Processor Rating  \n",
       "0                    Intel® Celeron® Processor N4000  [4.0]  \n",
       "1                    Intel® Core™ i3-7020U Processor   None  \n",
       "2                    Intel® Core™ i3-8130U Processor   None  \n",
       "3  7th Generation Intel® Core™ i3 processor (i3-7...   None  \n",
       "4  Intel® Core™ i3-7020U (2.3 GHz base frequency,...  [5.0]  \n",
       "5                              Intel® Core™ i3-8145U   None  \n",
       "6                               Intel Core i3-1005G1   None  \n",
       "7  10th Generation Intel® Core™ i5-1035G1 Process...   None  \n",
       "8                             Intel® Core™ i3-1005G1  [5.0]  \n",
       "9                   Intel® Core™ i5-1035G4 Processor   None  "
      ]
     },
     "execution_count": 98,
     "metadata": {},
     "output_type": "execute_result"
    }
   ],
   "source": [
    "data=pd.DataFrame({\"Detail\":Detail,\"Price\":Price,\"Processor\":Processor,\"Rating\":Rating})\n",
    "data"
   ]
  },
  {
   "cell_type": "code",
   "execution_count": null,
   "metadata": {},
   "outputs": [],
   "source": []
  }
 ],
 "metadata": {
  "kernelspec": {
   "display_name": "Python 3",
   "language": "python",
   "name": "python3"
  },
  "language_info": {
   "codemirror_mode": {
    "name": "ipython",
    "version": 3
   },
   "file_extension": ".py",
   "mimetype": "text/x-python",
   "name": "python",
   "nbconvert_exporter": "python",
   "pygments_lexer": "ipython3",
   "version": "3.7.4"
  }
 },
 "nbformat": 4,
 "nbformat_minor": 2
}
